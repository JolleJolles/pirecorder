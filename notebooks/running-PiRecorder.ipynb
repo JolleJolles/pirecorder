{
 "cells": [
  {
   "cell_type": "markdown",
   "metadata": {},
   "source": [
    "# Using PiRecorder"
   ]
  },
  {
   "cell_type": "markdown",
   "metadata": {},
   "source": [
    "<span style=\"font-size:larger;\">This notebook will give a quick tutorial of how to use the PiRecorder module of the picamera package. For detailed documentation, go to [http://jollejolles.github.io/pirecorder](http://jollejolles.github.io/pirecorder)</span>"
   ]
  },
  {
   "cell_type": "markdown",
   "metadata": {},
   "source": [
    "## Starting a PiRecorder instance"
   ]
  },
  {
   "cell_type": "markdown",
   "metadata": {},
   "source": [
    "PiRecorder is the main module of the *pirecorder* package and facilitates the controlled and automated recording of images and videos. As it is a class instancem it needs to be stored as a variable.\n",
    "\n",
    "The first time the PiRecorder instance is run, automatically a `pirecorder` directory will be created in the user's home directory with a default configuration file (`pirecorder.conf`) that will be used as the basis for future recordings. To initiate PiRecorder:"
   ]
  },
  {
   "cell_type": "code",
   "execution_count": null,
   "metadata": {},
   "outputs": [],
   "source": [
    "import pirecorder\n",
    "rec = pirecorder.PiRecorder()"
   ]
  },
  {
   "cell_type": "markdown",
   "metadata": {},
   "source": [
    "I use the variable name `Rec`, but any variable is fine as long as you are consistent in using it."
   ]
  },
  {
   "cell_type": "markdown",
   "metadata": {},
   "source": [
    "## Using (custom) configuration files"
   ]
  },
  {
   "cell_type": "markdown",
   "metadata": {},
   "source": [
    "As is explained in the [pirecorder package page](http://github.com/jollejolles/pirecorder/docs/pirecorder-package.md), one of the main features of PiRecorder is that it works with a simple-to-use configuration file to set all your camera and recording settings to easily run repeated and automated recordings.\n",
    "\n",
    "The configuration file can be set with the `configfile` parameter when initiating the PiRecorder instance, which defaults to \"pirecorder.conf\". For example, to work with a special config file for infrared recordings, you can run:"
   ]
  },
  {
   "cell_type": "code",
   "execution_count": null,
   "metadata": {},
   "outputs": [],
   "source": [
    "rec = pirecorder.PiRecorder(configfile = \"irsettings.conf\")"
   ]
  },
  {
   "cell_type": "markdown",
   "metadata": {},
   "source": [
    "The configuration files can be simply changed manually with any text editor or with your favorite terminal editor (e.g. `nano pirecorder/pirecorder.conf`). You can also easily update the configuration via the `settings` function and only add the parameters you want to change. For example:"
   ]
  },
  {
   "cell_type": "code",
   "execution_count": null,
   "metadata": {},
   "outputs": [],
   "source": [
    "rec.settings(label=\"test\", rectype=\"img\")"
   ]
  },
  {
   "cell_type": "markdown",
   "metadata": {},
   "source": [
    "An overview of all the recording parameters with concise description that are possible to set is provided at the bottom of this page and can also be called directly in Python:"
   ]
  },
  {
   "cell_type": "code",
   "execution_count": null,
   "metadata": {},
   "outputs": [],
   "source": [
    "print(rec.settings.__doc__)"
   ]
  },
  {
   "cell_type": "markdown",
   "metadata": {},
   "source": [
    "To see your current configuration settings, simply type in:"
   ]
  },
  {
   "cell_type": "code",
   "execution_count": null,
   "metadata": {},
   "outputs": [],
   "source": [
    "print(rec.config)"
   ]
  },
  {
   "cell_type": "markdown",
   "metadata": {},
   "source": [
    "Here is an overview of all parameters you can set"
   ]
  },
  {
   "cell_type": "code",
   "execution_count": null,
   "metadata": {},
   "outputs": [],
   "source": [
    "rec.settings(recdir = \"recordings\", label = \"test\", rectype = \"img\",  rotation = 0, brighttune = 0,   \\\n",
    "             gains = (1.0, 2.5), brightness = 45, contrast = 20, saturation = -100, iso = 200,        \\\n",
    "             sharpness = 50, compensation = 0, shutterspeed = 10000, imgdims = (3280,2464),           \\\n",
    "             viddims = (1640,1232), imgfps = 1, vidfps = 24, imgwait = 1.0, imgnr = 60, imgtime = 60, \\\n",
    "             imgquality = 50, vidduration = 10, viddelay = 0, vidquality = 11, maxviddur = 3600, maxvidsize = 0)"
   ]
  },
  {
   "cell_type": "markdown",
   "metadata": {},
   "source": [
    "## Where and what to record"
   ]
  },
  {
   "cell_type": "markdown",
   "metadata": {},
   "source": [
    "Two important configurations to set are the `recdir` and `rectype` parameters. By default PiRecorder will store all media in a recordings folder inside the pirecorder folder (`pirecorder/recordings`). You can change this to any folder name that you like. If no name is provided, the files will be directly stored in the users' home directory. If you want to store media on a mounted media, name the mounted folder \"NAS\" and use `recdir = \"NAS\"`, then it will automatically check if it is mounted and otherwise record in the default location.\n",
    "\n",
    "With PiRecorder you can record single images (`rectype = img`), a sequence/timelapse of images (`rectype = imgseq`), a single video (`rectype = vid`), or multiple sessions of videos (`rectype = vidseq`). The \"vidseq\" recording type will record multiple videos with the same recording settings but wait after each finished recording for user input to continue with the next recording or exit. Each new video will be treated as a new \"session\" and have a corresponding session number in its filename (e.g. \"S01\", \"S02\" etc). The benefit of this recording option is that it is even quicker to record multiple videos one after the other with the same parameters and to have a simple automatic filenaming system that keeps those videos together.\n"
   ]
  },
  {
   "cell_type": "markdown",
   "metadata": {},
   "source": [
    "## Position the camera and draw the region of interest"
   ]
  },
  {
   "cell_type": "markdown",
   "metadata": {},
   "source": [
    "pirecorder comes with a `stream` module that displays an interactive live video stream on the desktop to help position the raspberry pi camera and objects in the camera view, draw a region of interest to be used for recordings, and zoom in on part of the video. It records the clicks and movements of the mouse and responds to the following keypresses:\n",
    "\n",
    "- `f`-key: Display the stream fullscreen/display the stream in a window\n",
    "- `c`-key: Display/hide a diagonal cross across the screen\n",
    "- `s`-key: Save the coordinates of the rectangular area when drawn\n",
    "- `e`-key: Erase the rectangular area when drawn\n",
    "- `z`-key: Show a zoomed-in section of the video inside the rectangular area in maximum resolution\n",
    "- `n`-key: Refresh the zoom-in image\n",
    "- `o`-key: If the potential overlay image should be shown or not\n",
    "- `[`- and `]`-keys: Decrease or increase the relative opacity of the potential overlay image with 5%\n",
    "- `esc`-key: Exit the the zoom window as well as the calibrate function completely\n",
    "\n",
    "The `stream` module can be run independently:"
   ]
  },
  {
   "cell_type": "code",
   "execution_count": null,
   "metadata": {},
   "outputs": [],
   "source": [
    "pirecorder.Stream()"
   ]
  },
  {
   "cell_type": "markdown",
   "metadata": {},
   "source": [
    "as part of a `PiRecorder` instance:"
   ]
  },
  {
   "cell_type": "code",
   "execution_count": null,
   "metadata": {},
   "outputs": [],
   "source": [
    "rec.stream()"
   ]
  },
  {
   "cell_type": "markdown",
   "metadata": {},
   "source": [
    "and directly from the command line:"
   ]
  },
  {
   "cell_type": "code",
   "execution_count": null,
   "metadata": {},
   "outputs": [],
   "source": [
    "stream"
   ]
  },
  {
   "cell_type": "markdown",
   "metadata": {},
   "source": [
    "If using the `stream` module to store the region of interest, the configfile needs to be added as a parameter, e.g. `stream --configfile pirecorder.conf`"
   ]
  },
  {
   "cell_type": "markdown",
   "metadata": {},
   "source": [
    "To show that it stored the roi coordinates you can call the roi configuration directly"
   ]
  },
  {
   "cell_type": "code",
   "execution_count": null,
   "metadata": {},
   "outputs": [],
   "source": [
    "rec.config.cus.roi"
   ]
  },
  {
   "cell_type": "markdown",
   "metadata": {},
   "source": [
    "Clicking and drawing the mouse will draw a rectangular area. This can be used directly to store the coordinates of the region of interest that should be used for recordings, i.e. to only record the region inside the rectangular area.\n",
    "\n",
    "Simply draw and redraw the rectangular area until you are happy and press the `s`-key. Now the coordinates of the region of interest will be displayed and, if running the `stream` functionality from a `PiRecorder` instance, stored automatically in the configuration file (e.g. `rec.config.cus.roi`). If you stored the region of interest accidentally or want to remove the drawn rectangle simple enter the `e`-key. To exit press the `esc`-key.\n"
   ]
  },
  {
   "cell_type": "markdown",
   "metadata": {},
   "source": [
    "## Settings for image recording"
   ]
  },
  {
   "cell_type": "markdown",
   "metadata": {},
   "source": [
    "To set the resolution for images you can use the `imgdims` parameter, which defaults to the maximum resolution for the v1.5 camera model, which is (2592, 1944). Any camera that connects to the raspberry pi's CSI port should be supported, and besides the three official models, a large range of other cameras exist with different maximum resolutions (v2 camera: 3280 x 2464; hq camera: 4056 x 3040). The `imgquality` parameter specifies the quality that the jpeg encoder should attempt to maintain. Use values between 1 and 100, where higher values are higher quality. Playing with this setting can help to considerably reduce the file size of your recordings while keeping the same quality.\n",
    "\n",
    "To control your image sequences you can set three parameters: `imgnr`, `imgtime`, and `imgwait`. PiRecorder will use the minimum of `imgnr` and the nr of images based on `imgwait` and `imgtime`. When the value provided for imgwait is too low relative to the provided shutterspeed it will be automatically set to the minimum value of 0.45s. With a fast enough shutterspeed it is possible to record multiple images per second, but depends on the model of raspberry pi you use. Also, when a delay is provided that is less than ~x5 the shutterspeed, the camera processing time will take more time than the provided imgwait parameter and so images are taken immediately one after the other. To take a sequence of images at the exact right delay interval the imgwait parameter should be at least 5x the shutterspeed (e.g. shutterspeed of 400ms needs imgwait of 2s.\n",
    "\n",
    "For example, to record a sequence of 10 images at very high resolution at 1 image a minute:"
   ]
  },
  {
   "cell_type": "code",
   "execution_count": null,
   "metadata": {},
   "outputs": [],
   "source": [
    "rec.settings(imgnr = 10, imgtime = 15, imgwait = 60, imgquality = 90, imgdims = (3280, 2464))"
   ]
  },
  {
   "cell_type": "markdown",
   "metadata": {},
   "source": [
    "## Settings for video recording"
   ]
  },
  {
   "cell_type": "markdown",
   "metadata": {
    "inputHidden": false,
    "outputHidden": false
   },
   "source": [
    "For recording video you can set the `vidduration` and `viddelay` to get the right recording duration. The viddelay is extra recording time in seconds that will be added to vidduration. Its use is to add a standard amount of time to the video that can be easily cropped or skipped, such as for tracking, but still provides useful information.\n",
    "\n",
    "To set the resolution for video recording use the `viddims` parameter. Note that the maximum video resolution for all official raspberry pi camera's (\"v1\",\"v2\" and \"hq\") is 1080p. There might be unofficial cameras that support an even higher resolution, but they may require special software to work. In any way, it is possible to record in any resolution and ratio as long as the total number of pixels does not exceed the maximum (1640 x 1232 pixels). To set the framerate of the video use the `vidfps` parameter. With smaller resolutions higher framerates are possible.\n",
    "\n",
    "The `vidquality` parameter specifies the quality that the h264 encoder should attempt to maintain. Use values between 10 and 40, where 10 is extremely high quality, and 40 is extremely low.\n",
    "\n",
    "As of version v3.3.0 it is also possible to automatically split videos by duration or by size using the `maxviddur` and `maxvidsize` (in MB) parameters. When a video that is being recorded goes beyond these thresholds, automatically a new video will be created, with subsequent video segments belonging to the same recording ending in video iterator, e.g. `_v01.h264`, `_v02.h264` etc.\n",
    "For example, to take a single video for 10 minutes with 20s extra time, with a 1640x1232 resolution at 24fps, with a relatively low quality and thus file size, and automatically cut into 10MB sections:"
   ]
  },
  {
   "cell_type": "code",
   "execution_count": null,
   "metadata": {},
   "outputs": [],
   "source": [
    "rec.settings(rectype = \"vid\", vidduration = 600, viddelay = 20, vidquality = 30, viddims = (1640, 1232), vidfps = 24, maxvidsize = 10)"
   ]
  },
  {
   "cell_type": "markdown",
   "metadata": {},
   "source": [
    "## Camera settings"
   ]
  },
  {
   "cell_type": "markdown",
   "metadata": {},
   "source": [
    "It is possible to set a large number of camera settings with pirecorder: `rotation`, `gains`, `brightness`, `contrast`, `saturation`, `iso`, `sharpness`, `compensation`, and `shutterspeed`. Besides setting these manually as explained above, there are also automatic and interactive modes.\n",
    "\n",
    "By default, PiRecorder automatically sets the shutterspeed and white balance dynamically for and during each recording (`automode = True`). However, to get consistent recordings, it may be preferable to set the shutterspeed and white balance at a fixed value.\n",
    "\n",
    "To get the optimal shutterspeed and white balance for the current conditions automatically you can use the `autoconfig` function, which will directly update the configuration file. This function will use the framerate provided in the configuration file for calibration, so make sure that is set properly. Then to run autoconfig, simply enter:"
   ]
  },
  {
   "cell_type": "code",
   "execution_count": null,
   "metadata": {},
   "outputs": [],
   "source": [
    "rec.autoconfig()"
   ]
  },
  {
   "cell_type": "markdown",
   "metadata": {},
   "source": [
    "## Change the camera settings interactively"
   ]
  },
  {
   "cell_type": "markdown",
   "metadata": {},
   "source": [
    "pirecorder also comes with a very handy interactive tool (`camconfig`) that enables you to set the camera settings dynamically. `camconfig` opens a live video stream and a separate window with a trackbar for each of the camera settings. You can slide your parameters of interest between the possible values and see live how the resulting recording will look like. To run camconfig and store the values automatically in your configuration file, use the function linked to your PiRecorder instance:"
   ]
  },
  {
   "cell_type": "code",
   "execution_count": null,
   "metadata": {},
   "outputs": [],
   "source": [
    "rec.camconfig()"
   ]
  },
  {
   "cell_type": "markdown",
   "metadata": {},
   "source": [
    "You can exit the stream without saving with the `esc`-key and with saving with the `s`-key.\n",
    "\n",
    "An important setting is the `automatic` mode. By default this is set to `True` such that it automatically gets the optimal shutterspeed and white balance (blue and red gains), which is visible by the respective trackbars sliding automatically to their optimal values. When you are relatively happy with these values it is a good time to use the non-automatic mode as then you are able to further tweak these values to your wishes.\n",
    "\n",
    "`camconfig` will use the framerate as provided in the configuration file but can also use a custom framerate (e.g. `camconfig(fps=10)`), which will influence the range of shutterspeeds possible (see above). It is also possible to use camconfig stand alone without a PiRecorder instance. Simply import pirecorder and run the function:"
   ]
  },
  {
   "cell_type": "code",
   "execution_count": null,
   "metadata": {},
   "outputs": [],
   "source": [
    "import pirecorder\n",
    "pirecorder.Camconfig()"
   ]
  },
  {
   "cell_type": "markdown",
   "metadata": {},
   "source": [
    "Then when the `s`-key is pressed it will output a dictionary of all values."
   ]
  },
  {
   "cell_type": "markdown",
   "metadata": {},
   "source": [
    "## Recording"
   ]
  },
  {
   "cell_type": "markdown",
   "metadata": {},
   "source": [
    "To start your recordings, first import pirecorder, start your instance with the right configuration file, and use the `record` function:"
   ]
  },
  {
   "cell_type": "code",
   "execution_count": null,
   "metadata": {},
   "outputs": [],
   "source": [
    "rec.record()"
   ]
  },
  {
   "cell_type": "markdown",
   "metadata": {},
   "source": [
    "This will use all recording and camera settings as detailed in your configuration file. It is possible to run recordings immideatealy without any configuration. Then it will just use the default (`configfile = \"pirecorder.conf\"`) and use the automatic mode to dynamically set the right shutterspeed and white balance. You may wish to set the `rectype` and related parameters though to get the recording that you want."
   ]
  },
  {
   "cell_type": "markdown",
   "metadata": {},
   "source": [
    "It is also possible to run recordings straight from the terminal without requiring any further user input using the `record` command, which makes it very easy to run controlled recordings without requiring any user input. It will use the custom settings as provided in the configuration file, which you can change with the `--configfile` parameter:"
   ]
  },
  {
   "cell_type": "code",
   "execution_count": null,
   "metadata": {},
   "outputs": [],
   "source": [
    "record --configfile \"custom.conf\""
   ]
  },
  {
   "cell_type": "markdown",
   "metadata": {},
   "source": [
    "## Recording different rectypes\n",
    "With PiRecorder it is possible to record either A) a single image, b) a sequence of images, C) a single video, or D) a session of video recordings. Here are some examples to run these different types of recordings"
   ]
  },
  {
   "cell_type": "code",
   "execution_count": null,
   "metadata": {},
   "outputs": [],
   "source": [
    "rec.settings(label = \"testsingleimg\", rectype = \"img\", imgdims = (1640,1232))"
   ]
  },
  {
   "cell_type": "code",
   "execution_count": null,
   "metadata": {},
   "outputs": [],
   "source": [
    "rec.settings(label = \"testimgseq\", rectype = \"imgseq\", imgdims = (1640,1232), \\\n",
    "              imgwait = 3, imgnr = 10, imgtime = 20)"
   ]
  },
  {
   "cell_type": "code",
   "execution_count": null,
   "metadata": {},
   "outputs": [],
   "source": [
    "rec.settings(label = \"testvid\", rectype = \"vid\", saturation = 50, vidduration = 7)"
   ]
  },
  {
   "cell_type": "code",
   "execution_count": null,
   "metadata": {},
   "outputs": [],
   "source": [
    "rec.settings(label = \"sessions\", rectype = \"vidseq\", vidduration = 60)"
   ]
  },
  {
   "cell_type": "markdown",
   "metadata": {},
   "source": [
    "To automatically save all images of a single image sequence in a folder set the `subdirs` parameter to `True`:"
   ]
  },
  {
   "cell_type": "code",
   "execution_count": null,
   "metadata": {},
   "outputs": [],
   "source": [
    "rec.settings(subdirs = True)"
   ]
  }
 ],
 "metadata": {
  "kernel_info": {
   "name": "python2"
  },
  "kernelspec": {
   "display_name": "main",
   "language": "python",
   "name": "main"
  },
  "language_info": {
   "codemirror_mode": {
    "name": "ipython",
    "version": 2
   },
   "file_extension": ".py",
   "mimetype": "text/x-python",
   "name": "python",
   "nbconvert_exporter": "python",
   "pygments_lexer": "ipython2",
   "version": "2.7.16"
  },
  "nteract": {
   "version": "0.12.3"
  }
 },
 "nbformat": 4,
 "nbformat_minor": 2
}
