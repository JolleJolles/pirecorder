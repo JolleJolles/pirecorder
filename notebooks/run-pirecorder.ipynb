{
 "cells": [
  {
   "cell_type": "markdown",
   "metadata": {},
   "source": [
    "### Using pirecorder"
   ]
  },
  {
   "cell_type": "code",
   "execution_count": null,
   "metadata": {},
   "outputs": [],
   "source": [
    "# Import pirecorder\n",
    "from pirecorder import Pirecorder"
   ]
  },
  {
   "cell_type": "code",
   "execution_count": null,
   "metadata": {
    "inputHidden": false,
    "outputHidden": false
   },
   "outputs": [],
   "source": [
    "# Initiate the recorder instance\n",
    "recorder = PiRecorder()"
   ]
  },
  {
   "cell_type": "code",
   "execution_count": null,
   "metadata": {
    "inputHidden": false,
    "outputHidden": false
   },
   "outputs": [],
   "source": [
    "# Read the documentation for the Recorder\n",
    "print(recorder.__doc__)"
   ]
  },
  {
   "cell_type": "code",
   "execution_count": null,
   "metadata": {
    "inputHidden": false,
    "outputHidden": false
   },
   "outputs": [],
   "source": [
    "recorder.set_config(recdir = \"recordings\", label = \"test\", rectype = \"img\", \n",
    "                    rotation = 0, brighttune = 0, gains = (1.0, 2.5),\n",
    "                    brightness = 45, contrast = 20, saturation = -100, iso = 200,\n",
    "                    sharpness = 50, compensation = 0, shutterspeed = 10000,\n",
    "                    imgdims = (3280,2464), viddims = (1640,1232), imgfps = 1,\n",
    "                    vidfps = 24, imgwait = 1.0, imgnr = 60, imgtime = 60,\n",
    "                    imgquality = 50, vidduration = 10, viddelay = 0, vidquality = 11)"
   ]
  },
  {
   "cell_type": "code",
   "execution_count": null,
   "metadata": {
    "inputHidden": false,
    "outputHidden": false
   },
   "outputs": [],
   "source": [
    "# Check current config settings \n",
    "print(recorder.config)"
   ]
  },
  {
   "cell_type": "code",
   "execution_count": null,
   "metadata": {
    "inputHidden": false,
    "outputHidden": false
   },
   "outputs": [],
   "source": [
    "# Create 3 test images for setting the optimal light levels\n",
    "recorder.set_config(label = \"test\", rectype = \"img\", iso = 200, compensation = 0, contrast = 20)\n",
    "recorder.set_config(brightness = 45)\n",
    "recorder.record()\n",
    "recorder.set_config(brightness = 50)\n",
    "recorder.record()\n",
    "recorder.set_config(brightness = 55)\n",
    "recorder.record()"
   ]
  },
  {
   "cell_type": "code",
   "execution_count": null,
   "metadata": {},
   "outputs": [],
   "source": [
    "# Dynamically set the Gains\n",
    "recorder.set_gains()"
   ]
  },
  {
   "cell_type": "code",
   "execution_count": null,
   "metadata": {},
   "outputs": [],
   "source": [
    "# Draw the region of interest\n",
    "recorder.set_roi()"
   ]
  },
  {
   "cell_type": "code",
   "execution_count": null,
   "metadata": {},
   "outputs": [],
   "source": [
    "### Examples for the different recording types:\n",
    "# Create configuration for recording a single short video\n",
    "recorder.set_config(label = \"testvid\", rectype = \"vid\", saturation = 50, vidduration = 7)\n",
    "\n",
    "# Create configuration for recording videos in sessions with each new one waiting for user input\n",
    "recorder.set_config(label = \"testvidseq\", rectype = \"vidseq\")\n",
    "\n",
    "# Create configuration for recording a single image\n",
    "recorder.set_config(label = \"testsingleimg\", rectype = \"img\", imgdims = (1640,1232))\n",
    "\n",
    "# Create configuration for recording an image sequence\n",
    "recorder.set_config(label = \"testimgseq\", rectype = \"imgseq\", imgdims = (1640,1232), \n",
    "              imgwait = 3, imgnr = 10, imgtime = 20)"
   ]
  },
  {
   "cell_type": "code",
   "execution_count": null,
   "metadata": {},
   "outputs": [],
   "source": [
    "# Start recording\n",
    "recorder.record()"
   ]
  },
  {
   "cell_type": "markdown",
   "metadata": {},
   "source": [
    "### Schedule recordings"
   ]
  },
  {
   "cell_type": "code",
   "execution_count": null,
   "metadata": {
    "inputHidden": false,
    "outputHidden": false
   },
   "outputs": [],
   "source": [
    "# Read the documentation for the schedule method\n",
    "print(recorder.schedule.__doc__)"
   ]
  },
  {
   "cell_type": "code",
   "execution_count": null,
   "metadata": {
    "inputHidden": false,
    "outputHidden": false
   },
   "outputs": [],
   "source": [
    "# Test the timeplan planned to be used for scheduled recordings\n",
    "recorder.schedule(timeplan = \"*/10 */2 10-15 * *\", test = True)"
   ]
  },
  {
   "cell_type": "code",
   "execution_count": null,
   "metadata": {
    "inputHidden": false,
    "outputHidden": false
   },
   "outputs": [],
   "source": [
    "# Schedule a job\n",
    "# Important: Make sure Recorder configuration timing settings are within the timespan \n",
    "# between subsequent scheduled recordings based on the provided timeplan. For example, \n",
    "# a vid duration of 20 min and a scheduled recording every 15 min between 13:00-16:00 \n",
    "# (*/15 13-16 * * *) will fail.\n",
    "recorder.schedule(jobname = \"rec1\", timeplan = \"*/10 */2 10-15 * *\")"
   ]
  },
  {
   "cell_type": "code",
   "execution_count": null,
   "metadata": {
    "inputHidden": false,
    "outputHidden": false
   },
   "outputs": [],
   "source": [
    "# Show all jobs currently scheduled (both enabled and disabled jobs)\n",
    "recorder.schedule(showjobs = True)"
   ]
  },
  {
   "cell_type": "code",
   "execution_count": null,
   "metadata": {
    "inputHidden": false,
    "outputHidden": false
   },
   "outputs": [],
   "source": [
    "# Disable a specific job\n",
    "recorder.schedule(jobname = \"rec1\", enable = False)"
   ]
  },
  {
   "cell_type": "code",
   "execution_count": null,
   "metadata": {
    "inputHidden": false,
    "outputHidden": false
   },
   "outputs": [],
   "source": [
    "# Clear a specific job\n",
    "recorder.schedule(jobname = \"rec1\", clear = \"job\")"
   ]
  }
 ],
 "metadata": {
  "kernel_info": {
   "name": "python2"
  },
  "kernelspec": {
   "display_name": "Python 2",
   "language": "python",
   "name": "python2"
  },
  "language_info": {
   "codemirror_mode": {
    "name": "ipython",
    "version": 2
   },
   "file_extension": ".py",
   "mimetype": "text/x-python",
   "name": "python",
   "nbconvert_exporter": "python",
   "pygments_lexer": "ipython2",
   "version": "2.7.12"
  },
  "nteract": {
   "version": "0.12.3"
  }
 },
 "nbformat": 4,
 "nbformat_minor": 2
}
